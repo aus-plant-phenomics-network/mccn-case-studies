{
 "cells": [
  {
   "attachments": {},
   "cell_type": "markdown",
   "id": "3fa3d9ed-9342-4a50-8c8f-b6e3ad16373d",
   "metadata": {},
   "source": [
    "# Case Study 1 - Evaluate impact from environmental events/pressures\n",
    "## Description \n",
    "I want to aggregate observations of _Caladenia_ orchids in the ACT so I can analyse the relationship between records and the protection status and vegetation cover of the locations of each species.\n",
    "## Case Breakdown \n",
    "- **Actors:** Plant researcher\n",
    "- **Goals:** Compare the abundance of wild orchid flowers based on habitat type and protection status\n",
    "- **Scope:** Regional, 30-year aggregated\n",
    "## Generalised case\n",
    "I want to combine a suite of spatial variables at different scales across multiple sites so I can analyse the factors correlated with a variable of interest.\n",
    "## Comparable cases\n",
    "- As a grains researcher, I want to aggregate spatial data for frost and other extreme weather events associated with chickpeas and wheat grown at Merredin and other sites in Western Australia, so I can analyse the effects of such events on different varieties at different stages and advise growers on the best choices. \n",
    "- I want to aggregate iMapPests data for the same pest across multiple sites and locations so I can analyse the relationship between population levels and environmental context at the time and over the previous month, including weather (temperature, rainfall, humidity - all xyt), lunar phase (t) and greenness (xyt - see https://portal.tern.org.au/metadata/TERN/8542d90e-6e20-4ad8-b30d-0a171b61d3f5).\n",
    "## Stakeholders \n",
    "- **Name:** Martin Westgate (Atlas of Living Australia)\n",
    "- **Contact:** martin.westgate@csiro.au\n"
   ]
  },
  {
   "cell_type": "markdown",
   "id": "806db0de-ec5a-471b-97ba-ea12f54e24dc",
   "metadata": {},
   "source": [
    "## Data Sources\n",
    "The implementation uses the following data sources (all in the source_data subfolder):\n",
    "- **vegetation_cover_northern.tif** - GA Landsat Vegetation Cover GeoTIFF at 25m2 for the northern two thirds of the ACT and adjacent NSW in 2020: https://explorer.dea.ga.gov.au/products/ga_ls_landcover_class_cyear_2/datasets/67bb9d38-00c7-46ba-a5e9-b892d9f9ad42 (values defined here: https://knowledge.dea.ga.gov.au/data/product/dea-land-cover-landsat/?tab=details)\n",
    "- **vegetation_cover_southern.tif** - GA Landsat Vegetation Cover GeoTIFF at 25m2 for the southern third of the ACT and adjacent NSW in 2020: https://explorer.dea.ga.gov.au/products/ga_ls_landcover_class_cyear_2/datasets/464fd7e2-0554-4095-80e1-42e00f087831\n",
    "- **boundary_act.geojson** - 2023 boundary for the Australian Capital Territory from the ACT Government in GeoJSON format: https://actmapi-actgov.opendata.arcgis.com/datasets/ACTGOV::actgov-border/explore\n",
    "- **capad_act.geojson** - Protected Area data for the Australian Capital Territory in 2022 from the CAPAD dataset in GeoJSON format: https://fed.dcceew.gov.au/datasets/ec356a872d8048459fe78fc80213dc70_0/explore?filters=eyJTVEFURSI6WyJBQ1QiXX0%3D&location=-35.437128%2C149.203518%2C11.00\n",
    "- **caladenia_act.csv** - Distribution records for orchids in the genus _Caladenia_ between 1990 and present from the ALA in CSV format: https://doi.org/10.26197/ala.1e501311-7077-403b-a743-59e096068fa0"
   ]
  },
  {
   "cell_type": "markdown",
   "id": "aedd2c79",
   "metadata": {},
   "source": [
    "## Imports"
   ]
  },
  {
   "cell_type": "code",
   "execution_count": null,
   "id": "39ac2b2e",
   "metadata": {},
   "outputs": [],
   "source": [
    "import xarray as xr\n",
    "import pandas as pd\n",
    "import numpy as np\n",
    "import os\n",
    "import shutil\n",
    "import pystac\n",
    "import pystac_client\n",
    "import subprocess\n",
    "import json\n",
    "\n",
    "from stac_generator import StacGeneratorFactory\n",
    "from stac_generator.core.base.generator import StacSerialiser\n",
    "from stac_generator.core.base.schema import StacCollectionConfig, ColumnInfo\n",
    "from stac_generator.core.raster.schema import RasterConfig, BandInfo\n",
    "from stac_generator.core.vector.schema import VectorConfig\n",
    "from stac_generator.core.point.schema import PointConfig\n",
    "\n",
    "from mccn.client import MCCN\n",
    "import matplotlib.pyplot as plt"
   ]
  },
  {
   "cell_type": "markdown",
   "id": "3c675eb9-2234-41bd-9931-d4ff51a97dd6",
   "metadata": {},
   "source": [
    "## Data Catalog\n",
    "This notebook uses the following data sources (all in the source_data subfolder):\n",
    "- **vegetation_cover.tif** - GA Landsat Vegetation Cover GeoTIFF at 25m2 for the northern two thirds of the ACT and adjacent NSW in 2020 (convenient just to get one tile): https://explorer.dea.ga.gov.au/products/ga_ls_landcover_class_cyear_2/datasets/67bb9d38-00c7-46ba-a5e9-b892d9f9ad42 (values defined here: https://knowledge.dea.ga.gov.au/data/product/dea-land-cover-landsat/?tab=details)\n",
    "- **boundary_act.geojson** - 2023 boundary for the Australian Capital Territory from the ACT Government in GeoJSON format: https://actmapi-actgov.opendata.arcgis.com/datasets/ACTGOV::actgov-border/explore\n",
    "- **capad_act.geojson** - Protected Area data for the Australian Capital Territory in 2022 from the CAPAD dataset in GeoJSON format: https://fed.dcceew.gov.au/datasets/ec356a872d8048459fe78fc80213dc70_0/explore?filters=eyJTVEFURSI6WyJBQ1QiXX0%3D&location=-35.437128%2C149.203518%2C11.00\n",
    "- **caladenia_act.csv** - Distribution records for orchids in the genus _Caladenia_ between 1990 and present from the ALA in CSV format: https://doi.org/10.26197/ala.1e501311-7077-403b-a743-59e096068fa0"
   ]
  },
  {
   "cell_type": "code",
   "execution_count": null,
   "id": "f79e2844-8507-4801-b513-295ddcf5b96d",
   "metadata": {},
   "outputs": [],
   "source": [
    "# Paths\n",
    "\n",
    "current_folder = os.getcwd()\n",
    "cover_n_source = os.path.join(current_folder, \"source_data/vegetation_cover_northern.tif\")\n",
    "cover_s_source = os.path.join(current_folder, \"source_data/vegetation_cover_southern.tif\")\n",
    "caladenia_source = os.path.join(current_folder, \"source_data/caladenia_act.csv\")\n",
    "boundary_source = os.path.join(current_folder, \"source_data/boundary_act.geojson\")\n",
    "capad_source = os.path.join(current_folder, \"source_data/capad_act.geojson\")\n",
    "scratch_folder = os.path.join(current_folder, \"scratch\")\n",
    "cover_n_configuration_filename = os.path.join(scratch_folder, \"cover_n_config.json\")\n",
    "cover_s_configuration_filename = os.path.join(scratch_folder, \"cover_s_config.json\")\n",
    "boundary_configuration_filename = os.path.join(scratch_folder, \"boundary_config.json\")\n",
    "capad_configuration_filename = os.path.join(scratch_folder, \"capad_config.json\")\n",
    "\n",
    "if not os.path.exists(scratch_folder):\n",
    "    os.makedirs(scratch_folder)\n",
    "\n",
    "collection_config = StacCollectionConfig(\n",
    "    id=\"CaladeniaStudy\",\n",
    "    title=\"Datasets for Caladenia case study\",\n",
    "    description=\"STAC records for accessing datasets to explore as part of the MCCN case study 1 relating to distribution of orchids in the genus Caladenia in the northern ACT\",\n",
    "    license=\"CC-BY-4.0\",\n",
    ")\n",
    "\n",
    "configurations = []\n",
    "\n",
    "boundary_configuration = VectorConfig(\n",
    "    id=\"ACT_Boundary\",\n",
    "    location=boundary_source,\n",
    "    collection_date=\"2024-12-31\",\n",
    "    collection_time=\"00:00:00\"\n",
    ")\n",
    "with open(boundary_configuration_filename, \"w\") as f:\n",
    "    f.write(boundary_configuration.model_dump_json(exclude_none=True))\n",
    "configurations.append(boundary_configuration_filename)\n",
    "\n",
    "capad_configuration = VectorConfig(\n",
    "    id=\"ACT_CAPAD\",\n",
    "    location=capad_source,\n",
    "    collection_date=\"2024-12-31\",\n",
    "    collection_time=\"00:00:00\",\n",
    "    column_info=[\n",
    "        ColumnInfo(name=\"PA_ID\"),\n",
    "    ]\n",
    ")\n",
    "with open(capad_configuration_filename, \"w\") as f:\n",
    "    f.write(capad_configuration.model_dump_json(exclude_none=True))\n",
    "configurations.append(capad_configuration_filename)\n",
    "\n",
    "cover_n_configuration = RasterConfig(\n",
    "    id=\"Vegetation_Cover_Northern\",\n",
    "    location=cover_n_source,\n",
    "    collection_date=\"2024-12-31\",\n",
    "    collection_time=\"00:00:00\",\n",
    "    band_info=[\n",
    "        BandInfo(name=\"band_1\", description=\"Vegetation cover level\")\n",
    "    ]\n",
    ")\n",
    "with open(cover_n_configuration_filename, \"w\") as f:\n",
    "    f.write(cover_n_configuration.model_dump_json(exclude_none=True))\n",
    "configurations.append(cover_n_configuration_filename)\n",
    "\n",
    "cover_s_configuration = RasterConfig(\n",
    "    id=\"Vegetation_Cover_Southern\",\n",
    "    location=cover_s_source,\n",
    "    collection_date=\"2024-12-31\",\n",
    "    collection_time=\"00:00:00\",\n",
    "    band_info=[\n",
    "        BandInfo(name=\"band_2\", description=\"Vegetation cover level\")\n",
    "    ]\n",
    ")\n",
    "with open(cover_s_configuration_filename, \"w\") as f:\n",
    "    f.write(cover_s_configuration.model_dump_json(exclude_none=True))\n",
    "configurations.append(cover_s_configuration_filename)\n",
    "\n",
    "# Read caladenia_source, discard all columns but the scientific name and coordinates, and drop all records without complete coordinates\n",
    "\n",
    "caladenia = pd.read_csv(caladenia_source, encoding=\"UTF8\")[[\"scientificName\", \"decimalLatitude\", \"decimalLongitude\"]]\n",
    "caladenia = caladenia[~((caladenia[\"decimalLatitude\"].isna()) | (caladenia[\"decimalLatitude\"].isna()))]\n",
    "\n",
    "# Generate separate CSV files for each species with 10 or more observations (filenames held in species_files)\n",
    "species = caladenia.rename(columns= {'decimalLatitude':'count'}).groupby(\"scientificName\")[\"count\"].count().reset_index()\n",
    "species = species[species[\"count\"] >= 10][\"scientificName\"].tolist()\n",
    "\n",
    "species_files = [f\"{os.path.join(scratch_folder, (s.replace(' ', '_') + \".csv\"))}\" for s in species]\n",
    "\n",
    "for s, sf in zip(species, species_files):\n",
    "    s_underscore = s.replace(\" \", \"_\")\n",
    "    caladenia_subset = caladenia.loc[caladenia[\"scientificName\"] == s].copy()\n",
    "    caladenia_subset[s_underscore] = 1.0\n",
    "    caladenia_subset.to_csv(sf, encoding=\"utf8\")\n",
    "\n",
    "    caladenia_configuration = PointConfig(\n",
    "        id=s_underscore,\n",
    "        location=sf,\n",
    "        collection_date=\"2024-12-31\",\n",
    "        collection_time=\"00:00:00\",\n",
    "        X=\"decimalLongitude\",\n",
    "        Y=\"decimalLatitude\",\n",
    "        column_info=[\n",
    "            ColumnInfo(name=s_underscore, description=f\"{s} reported as present\"),\n",
    "        ]\n",
    "    )\n",
    "    caladenia_configuration_filename = os.path.join(scratch_folder, f\"{s_underscore}.json\")\n",
    "    with open(caladenia_configuration_filename, \"w\") as f:\n",
    "        f.write(caladenia_configuration.model_dump_json(exclude_none=True))\n",
    "    configurations.append(caladenia_configuration_filename)\n",
    "\n",
    "generator = StacGeneratorFactory.get_stac_generator(\n",
    "    source_configs=configurations,\n",
    "    collection_config=collection_config\n",
    ")\n",
    "\n",
    "serialiser = StacSerialiser(generator, \"scratch/generated\") # Replace with path to generated\n",
    "serialiser()"
   ]
  },
  {
   "cell_type": "markdown",
   "id": "63dcba91-b438-478c-b286-7480a914f0f2",
   "metadata": {},
   "source": [
    "## DataCube Generation\n",
    "Load data for all STAC items for the vegetation cover, ACT boundary, CAPAD shapes and orchid species records into a new data cube, using the boundary, CRS and shape from the vegetation cover layer."
   ]
  },
  {
   "cell_type": "code",
   "execution_count": null,
   "id": "e876f914-03ee-42c8-89ec-d60b3322ee53",
   "metadata": {},
   "outputs": [],
   "source": [
    "endpoint = \"scratch/generated/collection.json\"\n",
    "collection = \"CaladeniaStudy\"\n",
    "client = MCCN(endpoint, collection, shape=(200,400), point_nodata=0)\n",
    "\n",
    "ds = client.load()"
   ]
  },
  {
   "cell_type": "code",
   "execution_count": null,
   "id": "81d34d73",
   "metadata": {},
   "outputs": [],
   "source": [
    "ds"
   ]
  },
  {
   "cell_type": "code",
   "execution_count": null,
   "id": "3085696b",
   "metadata": {},
   "outputs": [],
   "source": [
    "ds = ds.isel(time=0)\n",
    "ds"
   ]
  },
  {
   "cell_type": "code",
   "execution_count": null,
   "id": "f27c53ce",
   "metadata": {},
   "outputs": [],
   "source": [
    "ds.ACT_Boundary.plot(x=\"x\")"
   ]
  },
  {
   "cell_type": "code",
   "execution_count": null,
   "id": "7ac0a754",
   "metadata": {},
   "outputs": [],
   "source": [
    "ds.PA_ID.plot(x=\"x\")"
   ]
  },
  {
   "cell_type": "code",
   "execution_count": null,
   "id": "54d5d3e9",
   "metadata": {},
   "outputs": [],
   "source": [
    "ds[\"vegetation_n\"] = ds.band_1.where(ds.band_1 < 255, 0)\n",
    "ds[\"vegetation_s\"] = ds.band_2.where(ds.band_2 < 255, 0)\n",
    "ds[\"vegetation\"] = ds.vegetation_n.where(ds.vegetation_n > 0, ds.vegetation_s)\n",
    "ds.vegetation.plot(x=\"x\")"
   ]
  },
  {
   "cell_type": "code",
   "execution_count": null,
   "id": "cf5e3a81",
   "metadata": {},
   "outputs": [],
   "source": [
    "\n",
    "ds[\"protected\"] = ds.PA_ID.where(ds.PA_ID == 0, 1)\n",
    "ds.protected.plot(x=\"x\")\n"
   ]
  },
  {
   "cell_type": "code",
   "execution_count": null,
   "id": "97ba088b",
   "metadata": {},
   "outputs": [],
   "source": [
    "species_keys = [k for k in list(ds.keys()) if k.startswith(\"Caladenia\")]\n",
    "\n",
    "ds[species_keys] = ds[species_keys].where(ds.ACT_Boundary > 0, 0).astype(int)\n",
    "ds[species_keys].to_array().plot(x=\"x\", col=\"variable\", col_wrap=3)"
   ]
  },
  {
   "cell_type": "code",
   "execution_count": null,
   "metadata": {},
   "outputs": [],
   "source": [
    "ds[species_keys].to_array().sum(\"variable\").plot(x=\"x\")"
   ]
  },
  {
   "cell_type": "markdown",
   "id": "68a2639c-d693-4a0f-aff2-c5c5f1713025",
   "metadata": {},
   "source": [
    "## Data Analysis/Visualisation\n",
    "1. Visualise all layers in a grid\n",
    "2. Crop all layers to boundary in boundary_source layer\n",
    "3. Generate and display pivot table showing orchid species as rows, vegetation cover levels for columns, and measures of affinity between the species and cover levels (observed/expected) as values\n",
    "4. Generate and display pivot table showing orchid species as rows, inclusion and exclusion from CAPAD areas as two columns, and measures of affinity between the species and protection status (observed/expected)  as values\n",
    "\n",
    "The vegetation cover levels are as follows:\n",
    "- 0: Not applicable (such as in bare areas)\n",
    "- 10: Closed (>65 %)\n",
    "- 12: Open (40 to 65 %)\n",
    "- 13: Open (15 to 40 %)\n",
    "- 15: Sparse (4 to 15 %)\n",
    "- 16: Scattered (1 to 4 %)\n",
    "\n",
    "For each species, report percentage of records found in protected areas (included in CAPAD) for 1) vegetation cover level with most records, 2) all vegetation cover levels"
   ]
  },
  {
   "cell_type": "code",
   "execution_count": null,
   "id": "63e28fba-f697-42c1-a566-c45f40f40b14",
   "metadata": {},
   "outputs": [],
   "source": [
    "# Dictionary of vegetation cover levels\n",
    "\n",
    "levels = {\n",
    "    0: \"Not applicable (such as in bare areas)\",\n",
    "    10: \"Closed (>65 %)\",\n",
    "    12: \"Open (40 to 65 %)\",\n",
    "    13: \"Open (15 to 40 %)\",\n",
    "    15: \"Sparse (4 to 15 %)\",\n",
    "    16: \"Scattered (1 to 4 %)\",\n",
    "}\n",
    "\n",
    "ds[\"all_ones\"] = 1\n",
    "\n",
    "study_pixels = ds.ACT_Boundary.sum().item()\n",
    "\n",
    "level_keys = [l for l in sorted(levels.keys())]\n",
    "level_keys[-1] = level_keys.pop(0)\n",
    "vegetation_affinity = pd.DataFrame(index=([\"Total pixels\"] + species_keys), columns=([\"Total pixels\"] + [levels[l] for l in level_keys]))\n",
    "vegetation_affinity.loc[\"Total pixels\", [\"Total pixels\"]] = study_pixels\n",
    "\n",
    "protection_affinity = pd.DataFrame(index=([\"Total pixels\"] + species_keys), columns=([\"Total pixels\", \"protected\", \"unprotected\"]))\n",
    "protection_affinity.loc[\"Total pixels\", [\"Total pixels\"]] = study_pixels\n",
    "\n",
    "level_pixels = {}\n",
    "for l in level_keys:\n",
    "    level_pixels[l] = ds.ACT_Boundary.where(ds.ACT_Boundary == 0, ds.all_ones.where(ds.vegetation == l, 0)).sum().item()\n",
    "    vegetation_affinity.loc[\"Total pixels\", [levels[l]]] = level_pixels[l]\n",
    "\n",
    "protection_pixels = {}\n",
    "protection_pixels[\"protected\"] = ds.ACT_Boundary.where(ds.ACT_Boundary == 0, ds.protected).sum().item()\n",
    "protection_affinity.loc[\"Total pixels\", [\"protected\"]] = protection_pixels[\"protected\"]\n",
    "protection_pixels[\"unprotected\"] = study_pixels - protection_pixels[\"protected\"]\n",
    "protection_affinity.loc[\"Total pixels\", [\"unprotected\"]] = protection_pixels[\"unprotected\"]\n",
    "\n",
    "species_pixels = {}\n",
    "for s in species_keys:\n",
    "    species_pixels[s] = ds.ACT_Boundary.where(ds.ACT_Boundary == 0, ds.all_ones.where(ds[s] == 1, 0)).sum().item()\n",
    "    vegetation_affinity.loc[s, [\"Total pixels\"]] = species_pixels[s]\n",
    "    protection_affinity.loc[s, [\"Total pixels\"]] = species_pixels[s]\n",
    "\n",
    "    if species_pixels[s] > 0:\n",
    "        for l in level_keys:\n",
    "            observed = ds.ACT_Boundary.where(ds.ACT_Boundary == 0, ds[s].where(ds[s] == 0, ds.all_ones.where(ds.vegetation == l, 0))).sum().item()\n",
    "            expected = (species_pixels[s] * level_pixels[l]) / study_pixels\n",
    "            vegetation_affinity.loc[s, [levels[l]]] = observed / expected\n",
    "\n",
    "        observed_protected = ds.ACT_Boundary.where(ds.ACT_Boundary == 0, ds[s].where(ds[s] == 0, ds.all_ones.where(ds.protected == 1, 0))).sum().item()\n",
    "        expected_protected = (species_pixels[s] * protection_pixels[\"protected\"]) / study_pixels\n",
    "        protection_affinity.loc[s, [\"protected\"]] = observed_protected / expected_protected\n",
    "        observed_unprotected = species_pixels[s] - observed_protected\n",
    "        expected_unprotected = (species_pixels[s] * protection_pixels[\"unprotected\"]) / study_pixels\n",
    "        protection_affinity.loc[s, [\"unprotected\"]] = observed_unprotected / expected_unprotected\n",
    "\n",
    "vegetation_affinity = vegetation_affinity.drop(vegetation_affinity[vegetation_affinity[\"Total pixels\"] == 0].index)\n",
    "vegetation_affinity\n"
   ]
  },
  {
   "cell_type": "code",
   "execution_count": null,
   "id": "6ed2b964",
   "metadata": {},
   "outputs": [],
   "source": [
    "\n",
    "protection_affinity = protection_affinity.drop(protection_affinity[protection_affinity[\"Total pixels\"] == 0].index)\n",
    "protection_affinity\n"
   ]
  },
  {
   "cell_type": "markdown",
   "id": "91292185",
   "metadata": {},
   "source": [
    "## Cleanup"
   ]
  },
  {
   "cell_type": "code",
   "execution_count": null,
   "id": "a75fb9e1",
   "metadata": {},
   "outputs": [],
   "source": [
    "# Clean up scratch folder\n",
    "\n",
    "shutil.rmtree(scratch_folder)"
   ]
  }
 ],
 "metadata": {
  "kernelspec": {
   "display_name": ".venv",
   "language": "python",
   "name": "python3"
  },
  "language_info": {
   "codemirror_mode": {
    "name": "ipython",
    "version": 3
   },
   "file_extension": ".py",
   "mimetype": "text/x-python",
   "name": "python",
   "nbconvert_exporter": "python",
   "pygments_lexer": "ipython3",
   "version": "3.12.9"
  }
 },
 "nbformat": 4,
 "nbformat_minor": 5
}
