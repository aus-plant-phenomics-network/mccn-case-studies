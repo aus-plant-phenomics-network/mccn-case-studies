{
 "cells": [
  {
   "attachments": {},
   "cell_type": "markdown",
   "id": "3fa3d9ed-9342-4a50-8c8f-b6e3ad16373d",
   "metadata": {},
   "source": [
    "# Case Study 1\n",
    "## Description \n",
    "As a grains researcher, I want to aggregate spatial data for frost and other extreme weather events associated with chickpeas and wheat grown at Merredin and other sites in Western Australia, so I can analyse the effects of such events on different varieties at different stages and advise growers on the best choices. \n",
    "## Case Breakdown \n",
    "- **Actors:** Grains researcher\n",
    "- **Goals:** compare the effects of extremes weather to different grains at different stages\n",
    "- **Scope:** Regional, plot-based\n",
    "- **Language:** Python,R\n",
    "- **Extra:** TBD\n",
    "## Generalised case\n",
    "I want to combine a suite of spatial variables at different scales across multiple sites so I can analyse the factors correlated with a variable of interest.\n",
    "## Comparable cases\n",
    "- I want to aggregate iMapPests data for the same pest across multiple sites and locations so I can analyse the relationship between population levels and environmental context at the time and over the previous month, including weather (temperature, rainfall, humidity - all xyt), lunar phase (t) and greenness (xyt - see https://portal.tern.org.au/metadata/TERN/8542d90e-6e20-4ad8-b30d-0a171b61d3f5).\n",
    "- I want to aggregate observations of _Caladenia_ orchids in the ACT so I can analyse the relationship between records and the protection status of the locations of each species.\n",
    "## Stakeholders \n",
    "- **Name:** TBD\n",
    "- **Contact:** TBD@adelaide.edu.au\n"
   ]
  },
  {
   "cell_type": "markdown",
   "id": "806db0de-ec5a-471b-97ba-ea12f54e24dc",
   "metadata": {},
   "source": [
    "## Data Sources - <span style=\"color:red\">DRAFT</span>\n",
    "- **Reference:** https://appf-central.atlassian.net/l/cp/7yrLwqX1\n",
    "### Data Source 1: SILO Climate DATABASE \n",
    "- **Description:** SILO Climate Database for environmental data.\n",
    "- **Format:** TBD\n",
    "- **Access Method:** https://www.longpaddock.qld.gov.au/silo/\n",
    "### Data Source 2: Extreme Weather Data (BOM)\n",
    "- **Description:** Extreme weather data from the Bureau of Meteorology (BOM).\n",
    "- **Format:** TBD\n",
    "- **Access Method:** http://www.bom.gov.au/akamai/https-redirect.html\n",
    "### Data Source 1: On-Ground Site\n",
    "- **Description:** Data from where the chickpeas come from. - AT PRESENT, THIS IS UNAVAILABLE.\n",
    "- **Format:** TBD\n",
    "- **Access Method:** TBD"
   ]
  },
  {
   "cell_type": "markdown",
   "id": "aedd2c79",
   "metadata": {},
   "source": [
    "## Imports"
   ]
  },
  {
   "cell_type": "code",
   "execution_count": 22,
   "id": "39ac2b2e",
   "metadata": {},
   "outputs": [],
   "source": [
    "import pandas as pd\n",
    "import os\n",
    "import shutil"
   ]
  },
  {
   "cell_type": "markdown",
   "id": "3c675eb9-2234-41bd-9931-d4ff51a97dd6",
   "metadata": {},
   "source": [
    "## Data Catalog - <span style=\"color:red\">DRAFT</span> \n",
    "This interim implementation uses the following data sources (all in the source_data subfolder):\n",
    "- **vegetation_cover.tif** - GA Landsat Vegetation Cover GeoTIFF at 25m2 for the northern two thirds of the ACT and adjacent NSW in 2020 (convenient just to get one tile): https://explorer.dea.ga.gov.au/products/ga_ls_landcover_class_cyear_2/datasets/67bb9d38-00c7-46ba-a5e9-b892d9f9ad42 (values defined here: https://knowledge.dea.ga.gov.au/data/product/dea-land-cover-landsat/?tab=details)\n",
    "- **boundary_act.geojson** - 2023 boundary for the Australian Capital Territory from the ACT Government in GeoJSON format: https://actmapi-actgov.opendata.arcgis.com/datasets/ACTGOV::actgov-border/explore\n",
    "- **capad_act.geojson** - Protected Area data for the Australian Capital Territory in 2022 from the CAPAD dataset in GeoJSON format: https://fed.dcceew.gov.au/datasets/ec356a872d8048459fe78fc80213dc70_0/explore?filters=eyJTVEFURSI6WyJBQ1QiXX0%3D&location=-35.437128%2C149.203518%2C11.00\n",
    "- **caladenia_act.csv** - Distribution records for orchids in the genus _Caladenia_ between 1990 and present from the ALA in CSV format: https://doi.org/10.26197/ala.1e501311-7077-403b-a743-59e096068fa0"
   ]
  },
  {
   "cell_type": "code",
   "execution_count": 23,
   "id": "f79e2844-8507-4801-b513-295ddcf5b96d",
   "metadata": {},
   "outputs": [],
   "source": [
    "# Paths\n",
    "\n",
    "cover_source = \"source_data/vegetation_cover.tif\"\n",
    "caladenia_source = \"source_data/caladenia_act.csv\"\n",
    "boundary_source = \"source_data/boundary_act.geojson\"\n",
    "capad_source = \"source_data/capad_act.geojson\"\n",
    "scratch_folder = \"scratch/\"\n",
    "\n",
    "if not os.path.exists(scratch_folder):\n",
    "    os.makedirs(scratch_folder)\n",
    "\n",
    "# Generate STAC Item for cover_source - the boundary, CRS and shape for this asset will be reused for the cube as a whole\n",
    "\n",
    "## TODO\n",
    "\n",
    "# Read caladenia_source, discard all columns but the scientific name and coordinates, and drop all records without complete coordinates\n",
    "\n",
    "caladenia = pd.read_csv(caladenia_source, encoding=\"UTF8\")[[\"scientificName\", \"decimalLatitude\", \"decimalLongitude\"]]\n",
    "caladenia = caladenia[~((caladenia[\"decimalLatitude\"].isna()) | (caladenia[\"decimalLatitude\"].isna()))]\n",
    "\n",
    "# Generate separate CSV files for each species with 10 or more observations (filenames held in species_files)\n",
    "species = caladenia.rename(columns= {'decimalLatitude':'count'}).groupby(\"scientificName\")[\"count\"].count().reset_index()\n",
    "species = species[species[\"count\"] >= 10][\"scientificName\"].tolist()\n",
    "\n",
    "species_files = [f\"{os.path.join(scratch_folder, (s.replace(' ', '_') + \".csv\"))}\" for s in species]\n",
    "\n",
    "for s, sf in zip(species, species_files):\n",
    "    caladenia[caladenia[\"scientificName\"] == s].to_csv(sf, encoding=\"utf8\")\n",
    "\n",
    "# Generate STAC Items for each species file\n",
    "\n",
    "## TODO\n",
    "\n",
    "# Generate STAC Items for boundary_source\n",
    "\n",
    "## TODO\n",
    "\n",
    "# Generate STAC Items for capad_source\n",
    "\n",
    "## TODO\n",
    "\n",
    "\n"
   ]
  },
  {
   "cell_type": "markdown",
   "id": "63dcba91-b438-478c-b286-7480a914f0f2",
   "metadata": {},
   "source": [
    "## DataCube Generation - <span style=\"color:red\">DRAFT</span> \n",
    "Load data for all STAC items for the vegetation cover, ACT boundary, CAPAD shapes and orchid species records into a new data cube, using the boundary, CRS and shape from the vegetation cover layer."
   ]
  },
  {
   "cell_type": "code",
   "execution_count": 24,
   "id": "e876f914-03ee-42c8-89ec-d60b3322ee53",
   "metadata": {},
   "outputs": [],
   "source": [
    "## TODO"
   ]
  },
  {
   "cell_type": "markdown",
   "id": "68a2639c-d693-4a0f-aff2-c5c5f1713025",
   "metadata": {},
   "source": [
    "## Data Analysis/Visualisation - <span style=\"color:red\">DRAFT</span> \n",
    "1. Visualise all layers in a grid\n",
    "2. Crop all layer to boundary in boundary_source layer\n",
    "3. Generate and display pivot table showing orchid species as rows and columns for each vegetation cover level with percentage of records in each category as values\n",
    "4. Generate and display pivot table showing orchid species as rows and columns for inclusion and exclusion from CAPAD areas with percentage of records in each category as values\n",
    "\n",
    "The vegetation cover levels are as follows:\n",
    "- 0: Not applicable (such as in bare areas)\n",
    "- 10: Closed (>65 %)\n",
    "- 12: Open (40 to 65 %)\n",
    "- 13: Open (15 to 40 %)\n",
    "- 15: Sparse (4 to 15 %)\n",
    "- 16: Scattered (1 to 4 %)"
   ]
  },
  {
   "cell_type": "code",
   "execution_count": 25,
   "id": "63e28fba-f697-42c1-a566-c45f40f40b14",
   "metadata": {},
   "outputs": [],
   "source": [
    "# Dictionary of vegetation cover levels\n",
    "\n",
    "levels = {\n",
    "    0: \"Not applicable (such as in bare areas)\",\n",
    "    10: \"Closed (>65 %)\",\n",
    "    12: \"Open (40 to 65 %)\",\n",
    "    13: \"Open (15 to 40 %)\",\n",
    "    15: \"Sparse (4 to 15 %)\",\n",
    "    16: \"Scattered (1 to 4 %)\",\n",
    "}\n",
    "\n",
    "## TODO"
   ]
  },
  {
   "cell_type": "markdown",
   "id": "91292185",
   "metadata": {},
   "source": [
    "## Cleanup"
   ]
  },
  {
   "cell_type": "code",
   "execution_count": 26,
   "id": "a75fb9e1",
   "metadata": {},
   "outputs": [],
   "source": [
    "# Clean up scratch folder\n",
    "\n",
    "shutil.rmtree(scratch_folder)"
   ]
  },
  {
   "attachments": {},
   "cell_type": "markdown",
   "id": "64d98a83-e3e6-4f63-abf5-6bb56b5c0cfa",
   "metadata": {},
   "source": [
    "## NonFunctional Requirements - <span style=\"color:red\">DRAFT</span> \n",
    "### Welcome PAGE\n",
    "#### Objectives\n",
    "- Showing users what they can do and get and how they can proceed.\n",
    "- Showing the most updeted information. \n",
    "#### Requirements \n",
    "- Create a simple UI/Template for user input their requirements\n",
    "  - showing the normal process of querying data and provide sample data\n",
    "  - showing the sample output users are expected to have\n",
    "  - showing the resources users can use\n",
    "- Creating a 'HELP' Page for users to looking for what kind of attributes they can use\n",
    "  - Including all the attributes they can query from the data sources\n",
    "  - Including all the functions users can use and expecting outputs of those query\n",
    "  - Including informations for asking questions and reaching for help.\n",
    "- Creating a 'Annoucement' Page for showing the most updated information of the project\n",
    "  - Including versions/Time/Detail\n",
    "\n",
    "### User Query \n",
    "#### Objectives\n",
    "- take input from users and process with related data\n",
    "- Analyze the data and give feedback of what is expected\n",
    "  - Error Control\n",
    "  - Time estimation\n",
    "  - Output Estimatation\n",
    "#### Requirements \n",
    "- Using basic Query language to query DATA\n",
    "    > Select Phenotype*\n",
    "    > from On-GroundSite\n",
    "    > Where CropType = 'Chickpeas'\n",
    "\n",
    "    > Select Environmental\n",
    "    > from SILO\n",
    "    > where weather ='Extreme'- ERROR Control\n",
    "- Estimation for time & Output\n",
    "    > ----> Estimated Files intotal: 500 file 5GB\n",
    "    > ----> Estimated Time:5 mins 50%\n",
    "    > ----> Noted it may depends on your download speed balabla.\n",
    "### Error Control\n",
    "#### Objectives\n",
    "- State clear what is happening while using try to query\n",
    "- Give advice & suggestions\n",
    "\n",
    "### Extras\n",
    "#### Non-Functional Requirements\n",
    "- Ensure querying time is within a set time (less than 1 second).\n",
    "- Create a waiting process for querying if time is not stable.\n",
    "- Present outputs in a consistent and organized manner.\n",
    "- Handle unexpected errors gracefully, showing error codes and continuing with other feasible data."
   ]
  }
 ],
 "metadata": {
  "kernelspec": {
   "display_name": "Python 3 (ipykernel)",
   "language": "python",
   "name": "python3"
  },
  "language_info": {
   "codemirror_mode": {
    "name": "ipython",
    "version": 3
   },
   "file_extension": ".py",
   "mimetype": "text/x-python",
   "name": "python",
   "nbconvert_exporter": "python",
   "pygments_lexer": "ipython3",
   "version": "3.12.3"
  }
 },
 "nbformat": 4,
 "nbformat_minor": 5
}
