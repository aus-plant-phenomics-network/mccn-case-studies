{
 "cells": [
  {
   "attachments": {},
   "cell_type": "markdown",
   "id": "3fa3d9ed-9342-4a50-8c8f-b6e3ad16373d",
   "metadata": {},
   "source": [
    "# Case Study 1 - Evaluate impact from environmental events/pressures\n",
    "## Description \n",
    "I want to aggregate observations of _Caladenia_ orchids in the ACT so I can analyse the relationship between records and the protection status and vegetation cover of the locations of each species.\n",
    "## Case Breakdown \n",
    "- **Actors:** Plant researcher\n",
    "- **Goals:** Compare the abundance of wild orchid flowers based on habitat type and protection status\n",
    "- **Scope:** Regional, 30-year aggregated\n",
    "## Generalised case\n",
    "I want to combine a suite of spatial variables at different scales across multiple sites so I can analyse the factors correlated with a variable of interest.\n",
    "## Comparable cases\n",
    "- As a grains researcher, I want to aggregate spatial data for frost and other extreme weather events associated with chickpeas and wheat grown at Merredin and other sites in Western Australia, so I can analyse the effects of such events on different varieties at different stages and advise growers on the best choices. \n",
    "- I want to aggregate iMapPests data for the same pest across multiple sites and locations so I can analyse the relationship between population levels and environmental context at the time and over the previous month, including weather (temperature, rainfall, humidity - all xyt), lunar phase (t) and greenness (xyt - see https://portal.tern.org.au/metadata/TERN/8542d90e-6e20-4ad8-b30d-0a171b61d3f5).\n",
    "## Stakeholders \n",
    "- **Name:** Martin Westgate (Atlas of Living Australia)\n",
    "- **Contact:** martin.westgate@csiro.au\n"
   ]
  },
  {
   "cell_type": "markdown",
   "id": "806db0de-ec5a-471b-97ba-ea12f54e24dc",
   "metadata": {},
   "source": [
    "## Data Sources\n",
    "The implementation uses the following data sources (all in the source_data subfolder):\n",
    "- **vegetation_cover_northern.tif** - GA Landsat Vegetation Cover GeoTIFF at 25m2 for the northern two thirds of the ACT and adjacent NSW in 2020: https://explorer.dea.ga.gov.au/products/ga_ls_landcover_class_cyear_2/datasets/67bb9d38-00c7-46ba-a5e9-b892d9f9ad42 (values defined here: https://knowledge.dea.ga.gov.au/data/product/dea-land-cover-landsat/?tab=details)\n",
    "- **vegetation_cover_southern.tif** - GA Landsat Vegetation Cover GeoTIFF at 25m2 for the southern third of the ACT and adjacent NSW in 2020: https://explorer.dea.ga.gov.au/products/ga_ls_landcover_class_cyear_2/datasets/464fd7e2-0554-4095-80e1-42e00f087831\n",
    "- **boundary_act.geojson** - 2023 boundary for the Australian Capital Territory from the ACT Government in GeoJSON format: https://actmapi-actgov.opendata.arcgis.com/datasets/ACTGOV::actgov-border/explore\n",
    "- **capad_act.geojson** - Protected Area data for the Australian Capital Territory in 2022 from the CAPAD dataset in GeoJSON format: https://fed.dcceew.gov.au/datasets/ec356a872d8048459fe78fc80213dc70_0/explore?filters=eyJTVEFURSI6WyJBQ1QiXX0%3D&location=-35.437128%2C149.203518%2C11.00\n",
    "- **caladenia_act.csv** - Distribution records for orchids in the genus _Caladenia_ between 1990 and present from the ALA in CSV format: https://doi.org/10.26197/ala.1e501311-7077-403b-a743-59e096068fa0"
   ]
  },
  {
   "cell_type": "markdown",
   "id": "aedd2c79",
   "metadata": {},
   "source": [
    "## Imports"
   ]
  },
  {
   "cell_type": "code",
   "execution_count": null,
   "id": "39ac2b2e",
   "metadata": {},
   "outputs": [],
   "source": [
    "import xarray as xr\n",
    "import pandas as pd\n",
    "import numpy as np\n",
    "import matplotlib.pyplot as plt\n",
    "\n",
    "import os\n",
    "import shutil\n",
    "import pystac\n",
    "import pystac_client\n",
    "import subprocess\n",
    "import json\n",
    "\n",
    "from stac_generator.factory import StacGeneratorFactory\n",
    "from stac_generator.core.base.generator import StacSerialiser\n",
    "from stac_generator.core.base.schema import StacCollectionConfig, ColumnInfo\n",
    "from stac_generator.core.raster.schema import RasterConfig, BandInfo\n",
    "from stac_generator.core.vector.schema import VectorConfig\n",
    "from stac_generator.core.point.schema import PointConfig\n",
    "\n",
    "from mccn.client import MCCN"
   ]
  },
  {
   "cell_type": "markdown",
   "id": "3c675eb9-2234-41bd-9931-d4ff51a97dd6",
   "metadata": {},
   "source": [
    "## Data Paths"
   ]
  },
  {
   "cell_type": "code",
   "execution_count": null,
   "id": "f79e2844-8507-4801-b513-295ddcf5b96d",
   "metadata": {},
   "outputs": [],
   "source": [
    "# Paths to current folder and scratch folder for working files\n",
    "current_folder = os.getcwd()\n",
    "scratch_folder = os.path.join(current_folder, \"scratch\")\n",
    "\n",
    "if not os.path.exists(scratch_folder):\n",
    "    os.makedirs(scratch_folder)\n",
    "\n",
    "# Paths to source files\n",
    "cover_n_source = os.path.join(current_folder, \"source_data/vegetation_cover_northern.tif\")\n",
    "cover_s_source = os.path.join(current_folder, \"source_data/vegetation_cover_southern.tif\")\n",
    "caladenia_source = os.path.join(current_folder, \"source_data/caladenia_act.csv\")\n",
    "boundary_source = os.path.join(current_folder, \"source_data/boundary_act.geojson\")\n",
    "capad_source = os.path.join(current_folder, \"source_data/capad_act.geojson\")\n",
    "\n",
    "# Paths for generating configuration files for STAC records\n",
    "cover_n_configuration_filename = os.path.join(scratch_folder, \"cover_n_config.json\")\n",
    "cover_s_configuration_filename = os.path.join(scratch_folder, \"cover_s_config.json\")\n",
    "boundary_configuration_filename = os.path.join(scratch_folder, \"boundary_config.json\")\n",
    "capad_configuration_filename = os.path.join(scratch_folder, \"capad_config.json\")\n"
   ]
  },
  {
   "cell_type": "markdown",
   "id": "f6731fc1",
   "metadata": {},
   "source": [
    "## Prepare orchid datasets\n",
    "\n",
    "All orchid species are included in a single file with many columns. Only the scientific name and coordinates are relevant for this case study. Different species may have occurred at the same coordinates. Importing the complete file as a single xarray DataArray would leave only one scientific name for each point. So we split the file into one for each species with 1o or more records.\n",
    "\n",
    "Records with incomplete coordinates or uncertainty greater than 1000 m are excluded. For a real analysis, greater precision would be required."
   ]
  },
  {
   "cell_type": "code",
   "execution_count": null,
   "id": "39b8d7da",
   "metadata": {},
   "outputs": [],
   "source": [
    "\n",
    "# Read caladenia_source, discard all columns but the scientific name and coordinates, and drop all records without complete coordinates or low precision.\n",
    "caladenia = pd.read_csv(caladenia_source, encoding=\"UTF8\")[[\"scientificName\", \"decimalLatitude\", \"decimalLongitude\", \"coordinateUncertaintyInMeters\"]]\n",
    "caladenia = caladenia[~((caladenia[\"decimalLatitude\"].isna()) | (caladenia[\"decimalLatitude\"].isna()) | (caladenia[\"coordinateUncertaintyInMeters\"] > 1000))]\n",
    "\n",
    "# Generate separate CSV files for each species with 10 or more observations (filenames held in species_files)\n",
    "species = caladenia.rename(columns= {'decimalLatitude':'count'}).groupby(\"scientificName\")[\"count\"].count().reset_index()\n",
    "species = species[species[\"count\"] >= 10][\"scientificName\"].tolist()\n",
    "\n",
    "# Generate space-free keys for each species and save data for each species to a corresponding filename.\n",
    "species_keys = [s.replace(' ', '_') for s in species]\n",
    "species_files = {s: os.path.join(scratch_folder, f\"{s}.csv\") for s in species_keys}\n",
    "\n",
    "for s, sk in zip(species, species_keys):\n",
    "    sf = species_files[sk]\n",
    "    caladenia_subset = caladenia.loc[caladenia[\"scientificName\"] == s].copy()\n",
    "    caladenia_subset[sk] = 1.0\n",
    "    caladenia_subset.to_csv(sf, encoding=\"utf8\")"
   ]
  },
  {
   "cell_type": "markdown",
   "id": "87061f53",
   "metadata": {},
   "source": [
    "## Generate configuration files for STAC collection"
   ]
  },
  {
   "cell_type": "code",
   "execution_count": null,
   "id": "d451ef21",
   "metadata": {},
   "outputs": [],
   "source": [
    "# Configuration for collection as a whole.\n",
    "collection_config = StacCollectionConfig(\n",
    "    id=\"CaladeniaStudy\",\n",
    "    title=\"Datasets for Caladenia case study\",\n",
    "    description=\"STAC records for accessing datasets to explore as part of the MCCN case study 1 relating to distribution of orchids in the genus Caladenia in the northern ACT\",\n",
    "    license=\"CC-BY-4.0\",\n",
    ")\n",
    "\n",
    "# List of configurations for individual data layers.\n",
    "configurations = [\n",
    "    \n",
    "    VectorConfig(\n",
    "        id=\"ACT_Boundary\",\n",
    "        location=boundary_source,\n",
    "        collection_date=\"2024-12-31\",\n",
    "        collection_time=\"00:00:00\"\n",
    "    ),\n",
    "\n",
    "    VectorConfig(\n",
    "        id=\"ACT_CAPAD\",\n",
    "        location=capad_source,\n",
    "        collection_date=\"2024-12-31\",\n",
    "        collection_time=\"00:00:00\",\n",
    "        column_info=[\n",
    "            ColumnInfo(name=\"PA_ID\"),\n",
    "        ]\n",
    "    ),\n",
    "\n",
    "    RasterConfig(\n",
    "        id=\"Vegetation_Cover_Northern\",\n",
    "        location=cover_n_source,\n",
    "        collection_date=\"2024-12-31\",\n",
    "        collection_time=\"00:00:00\",\n",
    "        band_info=[\n",
    "            BandInfo(name=\"vegetation_north\", description=\"Vegetation cover level\")\n",
    "        ]\n",
    "    ),\n",
    "\n",
    "    RasterConfig(\n",
    "        id=\"Vegetation_Cover_Southern\",\n",
    "        location=cover_s_source,\n",
    "        collection_date=\"2024-12-31\",\n",
    "        collection_time=\"00:00:00\",\n",
    "        band_info=[\n",
    "            BandInfo(name=\"vegetation_south\", description=\"Vegetation cover level\")\n",
    "        ]\n",
    "    ),\n",
    "] + [\n",
    "    PointConfig(\n",
    "        id=sk,\n",
    "        location=species_files[sk],\n",
    "        collection_date=\"2024-12-31\",\n",
    "        collection_time=\"00:00:00\",\n",
    "        X=\"decimalLongitude\",\n",
    "        Y=\"decimalLatitude\",\n",
    "        column_info=[\n",
    "            ColumnInfo(name=sk, description=f\"{s} reported as present\"),\n",
    "        ]\n",
    "    ) for sk in species_keys\n",
    "]\n",
    "\n",
    "# Build the generator using the configurations.\n",
    "generator = StacGeneratorFactory.get_collection_generator(\n",
    "    source_configs=configurations,\n",
    "    collection_config=collection_config\n",
    ")\n",
    "\n",
    "# Serialise the STAC collection. This will generate the collection JSON file and item JSON files for each layer.\n",
    "serialiser = StacSerialiser(generator, scratch_folder)\n",
    "serialiser()"
   ]
  },
  {
   "cell_type": "markdown",
   "id": "63dcba91-b438-478c-b286-7480a914f0f2",
   "metadata": {},
   "source": [
    "## DataCube Load\n",
    "Load data for all STAC items for the vegetation cover, ACT boundary, CAPAD shapes and orchid species records into a new data cube, using the boundary, CRS and shape from the vegetation cover layer. Use a 400 * 400 canvas and fill areas without values with 0."
   ]
  },
  {
   "cell_type": "code",
   "execution_count": null,
   "id": "e876f914-03ee-42c8-89ec-d60b3322ee53",
   "metadata": {},
   "outputs": [],
   "source": [
    "# Using the locally generated collection\n",
    "endpoint = os.path.join(scratch_folder, \"collection.json\")\n",
    "client = MCCN(endpoint, shape=400, nodata=0)\n",
    "ds = client.load()\n",
    "\n",
    "# The xarray includes a time dimension with a single position. Removing this dimension simplifies the indexing in all later steps.\n",
    "ds = ds.isel(time=0)\n",
    "\n",
    "# Variable containing all ones for simplified masking\n",
    "ds[\"all_ones\"] = 1\n",
    "\n",
    "# Display DataSet.\n",
    "ds"
   ]
  },
  {
   "cell_type": "markdown",
   "id": "597869f4",
   "metadata": {},
   "source": [
    "## Organise Vegetation Cover\n",
    "The two tiles for vegetation cover together completely overlay the ACT (excluding Jervis Bay). The tiles use the following pixel values:\n",
    "\n",
    "- 0: Not applicable (such as in bare areas)\n",
    "- 10: Closed (>65%)\n",
    "- 12: Open (40 to 65%)\n",
    "- 13: Open (15 to 40%)\n",
    "- 15: Sparse (4 to 15%)\n",
    "- 16: Scattered (1 to 4%)\n",
    "\n",
    "Since 0 is a meaningful value in these data, the tiles specify use of 255 as the fill value where there is no data. To merge these tiles into a single variable, we will first replace these 255 pixels with 0. This will not impact subsequent analysis (since usage will be restricted to the ACT area and all 0 values in that area are significant), but it simplifies the combining of the two tiles."
   ]
  },
  {
   "cell_type": "code",
   "execution_count": null,
   "id": "54d5d3e9",
   "metadata": {},
   "outputs": [],
   "source": [
    "# Display imported form of vegetation tiles.\n",
    "ds[[\"vegetation_north\", \"vegetation_south\"]].to_array().plot(x=\"x\", col=\"variable\", col_wrap=3)\n",
    "\n",
    "# Clean and merge tiles.\n",
    "ds[\"vegetation_north\"] = ds.vegetation_north.where(ds.vegetation_north < 255, 0)\n",
    "ds[\"vegetation_south\"] = ds.vegetation_south.where(ds.vegetation_south < 255, 0)\n",
    "ds[\"vegetation\"] = ds.vegetation_north.where(ds.vegetation_north > 0, ds.vegetation_south)\n",
    "\n",
    "# Display clean and merged layers.\n",
    "ds[[\"vegetation_north\", \"vegetation_south\", \"vegetation\"]].to_array().plot(x=\"x\", col=\"variable\", col_wrap=3)"
   ]
  },
  {
   "cell_type": "markdown",
   "id": "0ada237d",
   "metadata": {},
   "source": [
    "## Organise Protected Areas\n",
    "The source data includes separate shapes for each ACT protected area. Merge these into a single mask with 1 for protected area pixels and 0 otherwise."
   ]
  },
  {
   "cell_type": "code",
   "execution_count": null,
   "id": "cf5e3a81",
   "metadata": {},
   "outputs": [],
   "source": [
    "# Display original variable\n",
    "ds.PA_ID.plot(x=\"x\")"
   ]
  },
  {
   "cell_type": "code",
   "execution_count": null,
   "id": "feba8c45",
   "metadata": {},
   "outputs": [],
   "source": [
    "\n",
    "# Unify protected areas into a single mask\n",
    "ds[\"protected\"] = ds.PA_ID.where(ds.PA_ID == 0, 1)\n",
    "ds.protected.plot(x=\"x\")\n"
   ]
  },
  {
   "cell_type": "markdown",
   "id": "529b3425",
   "metadata": {},
   "source": [
    "## Organise Species data\n",
    "Get counts of remaining pixels for each species and drop layers with fewer than 10 records."
   ]
  },
  {
   "cell_type": "code",
   "execution_count": null,
   "id": "97ba088b",
   "metadata": {},
   "outputs": [],
   "source": [
    "# Collect counts of pixels per species for later use\n",
    "species_pixels = {}\n",
    "common_species_keys = []\n",
    "for s in species_keys:\n",
    "    species_pixels[s] = ds.ACT_Boundary.where(ds.ACT_Boundary == 0, ds.all_ones.where(ds[s] == 1, 0)).sum().item()\n",
    "    print(f\"{s}: {species_pixels[s]}\")\n",
    "\n",
    "    # Drop species with fewer than 10 records\n",
    "    if species_pixels[s] < 10:\n",
    "        ds = ds.drop_vars(s)\n",
    "    else:\n",
    "        common_species_keys.append(s)\n",
    "\n",
    "species_keys = common_species_keys\n",
    "\n",
    "# Display grid of remaining species\n",
    "ds[species_keys] = ds[species_keys].where(ds.ACT_Boundary > 0, 0).astype(int)\n",
    "ds[species_keys].to_array().plot(x=\"x\", col=\"variable\", col_wrap=4)"
   ]
  },
  {
   "cell_type": "code",
   "execution_count": null,
   "metadata": {},
   "outputs": [],
   "source": [
    "# Show species density per pixel\n",
    "ds[species_keys].to_array().sum(\"variable\").plot(x=\"x\")"
   ]
  },
  {
   "cell_type": "markdown",
   "id": "68a2639c-d693-4a0f-aff2-c5c5f1713025",
   "metadata": {},
   "source": [
    "## Calculate Affinities\n",
    "1. Visualise all layers in a grid\n",
    "2. Crop all layers to boundary in boundary_source layer\n",
    "3. Generate and display pivot table showing orchid species as rows, vegetation cover levels for columns, and measures of affinity between the species and cover levels (observed/expected) as values\n",
    "4. Generate and display pivot table showing orchid species as rows, inclusion and exclusion from CAPAD areas as two columns, and measures of affinity between the species and protection status (observed/expected)  as values\n",
    "\n",
    "For each species, report percentage of records found in protected areas (included in CAPAD) for 1) vegetation cover level with most records, 2) all vegetation cover levels"
   ]
  },
  {
   "cell_type": "code",
   "execution_count": null,
   "id": "63e28fba-f697-42c1-a566-c45f40f40b14",
   "metadata": {},
   "outputs": [],
   "source": [
    "# Dictionary of vegetation cover levels - organise keys in a sensible order.\n",
    "levels = {\n",
    "    0: \"Not applicable (such as in bare areas)\",\n",
    "    10: \"Closed (>65 %)\",\n",
    "    12: \"Open (40 to 65 %)\",\n",
    "    13: \"Open (15 to 40 %)\",\n",
    "    15: \"Sparse (4 to 15 %)\",\n",
    "    16: \"Scattered (1 to 4 %)\",\n",
    "}\n",
    "\n",
    "level_keys = sorted(levels.keys())\n",
    "level_keys[-1] = level_keys.pop(0)\n",
    "\n",
    "# Dictionary of protected area statuses.\n",
    "protection = {\n",
    "    0: \"unprotected\",\n",
    "    1: \"protected\",\n",
    "}\n",
    "\n",
    "protection_keys = sorted(protection.keys())\n",
    "\n",
    "# Pandas dataframes to contain results. \n",
    "# The \"Total pixels\" row and column are to store the number of pixels associated with each row or column. \n",
    "# Other cells will contain measures of affinity between a species and a class of pixels (vegetation cover level or protected area status).\n",
    "vegetation_affinity = pd.DataFrame(index=([\"Total pixels\"] + species_keys), columns=([\"Total pixels\"] + [levels[l] for l in level_keys]))\n",
    "protection_affinity = pd.DataFrame(index=([\"Total pixels\"] + species_keys), columns=([\"Total pixels\"] + [protection[p] for p in protection_keys]))\n",
    "\n",
    "# Count of total number of pixels in study area (i.e. ACT).\n",
    "study_pixels = ds.ACT_Boundary.sum().item()\n",
    "vegetation_affinity.loc[\"Total pixels\", [\"Total pixels\"]] = study_pixels\n",
    "protection_affinity.loc[\"Total pixels\", [\"Total pixels\"]] = study_pixels\n",
    "\n",
    "# Counts of number of pixels associated with each vegetation cover level.\n",
    "level_pixels = {}\n",
    "for l in level_keys:\n",
    "    level_pixels[l] = ds.ACT_Boundary.where(ds.ACT_Boundary == 0, ds.all_ones.where(ds.vegetation == l, 0)).sum().item()\n",
    "    vegetation_affinity.loc[\"Total pixels\", [levels[l]]] = level_pixels[l]\n",
    "\n",
    "# Counts of number of pixels associated with each protected area status.\n",
    "protection_pixels = {}\n",
    "for p in protection_keys:\n",
    "    protection_pixels[p] = ds.ACT_Boundary.where(ds.ACT_Boundary == 0, ds.all_ones.where(ds.protected == p, 0)).sum().item()\n",
    "    protection_affinity.loc[\"Total pixels\", [protection[p]]] = protection_pixels[p]\n",
    "\n",
    "# Counts of number of pixels in which each species has been recorded\n",
    "species_pixels = {}\n",
    "for s in species_keys:\n",
    "    species_pixels[s] = ds.ACT_Boundary.where(ds.ACT_Boundary == 0, ds.all_ones.where(ds[s] == 1, 0)).sum().item()\n",
    "    vegetation_affinity.loc[s, [\"Total pixels\"]] = species_pixels[s]\n",
    "    protection_affinity.loc[s, [\"Total pixels\"]] = species_pixels[s]\n",
    "\n",
    "    # Counts of number of pixels in each vegetation cover level which each species has been recorded and number expected if distribution is random. Affinity is defined as the ratio of these numbers.\n",
    "    for l in level_keys:\n",
    "        observed = ds.ACT_Boundary.where(ds.ACT_Boundary == 0, ds[s].where(ds[s] == 0, ds.all_ones.where(ds.vegetation == l, 0))).sum().item()\n",
    "        expected = (species_pixels[s] * level_pixels[l]) / study_pixels\n",
    "        vegetation_affinity.loc[s, [levels[l]]] = observed / expected\n",
    "\n",
    "    # Counts of number of pixels in each protected area status which each species has been recorded and number expected if distribution is random. Affinity is defined as the ratio of these numbers.\n",
    "    for p in protection_keys:\n",
    "        observed = ds.ACT_Boundary.where(ds.ACT_Boundary == 0, ds[s].where(ds[s] == 0, ds.all_ones.where(ds.protected == p, 0))).sum().item()\n",
    "        expected = (species_pixels[s] * protection_pixels[p]) / study_pixels\n",
    "        protection_affinity.loc[s, [protection[p]]] = observed / expected"
   ]
  },
  {
   "cell_type": "markdown",
   "id": "92e8ee30",
   "metadata": {},
   "source": [
    "## Results For Affinity Between Species And Vegetation Cover\n",
    "Based on the ALA data, _Caladenia congesta_ recorded show an affinity with more closed locations, while _Caladenia montana_, _Caladenia ustulata_, _Caladenia gracilis_, _Caladenia alpina_ and _Caladenia moschata_ show an affinity with open locations. Some species are intermediate and a couple have coordinates indicating affinity with non-vegetated areas - these seem to be species particularly often recorded in suburban settings by citizen scientists."
   ]
  },
  {
   "cell_type": "code",
   "execution_count": null,
   "id": "39ca1621",
   "metadata": {},
   "outputs": [],
   "source": [
    "\n",
    "# Display vegetation affinity results\n",
    "vegetation_affinity\n"
   ]
  },
  {
   "cell_type": "markdown",
   "id": "bf60d771",
   "metadata": {},
   "source": [
    "## Results For Affinity Between Species And Protection Status\n",
    "Based on the ALA data, several species show a clear affinity with protected areas (particularly the montane species which do not occur closer to the city). However, many species have been recorded more prominently in unprotected areas. As before, this should not be treated as a significant result. It most likely reflects the activities of citizen scientists."
   ]
  },
  {
   "cell_type": "code",
   "execution_count": null,
   "id": "6ed2b964",
   "metadata": {},
   "outputs": [],
   "source": [
    "\n",
    "# Display protection affinity results\n",
    "protection_affinity\n"
   ]
  },
  {
   "cell_type": "markdown",
   "id": "91292185",
   "metadata": {},
   "source": [
    "## Cleanup\n",
    "Beware - this will delete all generated files."
   ]
  },
  {
   "cell_type": "code",
   "execution_count": null,
   "id": "a75fb9e1",
   "metadata": {},
   "outputs": [],
   "source": [
    "# Clean up scratch folder\n",
    "\n",
    "shutil.rmtree(scratch_folder)"
   ]
  }
 ],
 "metadata": {
  "kernelspec": {
   "display_name": ".venv",
   "language": "python",
   "name": "python3"
  },
  "language_info": {
   "codemirror_mode": {
    "name": "ipython",
    "version": 3
   },
   "file_extension": ".py",
   "mimetype": "text/x-python",
   "name": "python",
   "nbconvert_exporter": "python",
   "pygments_lexer": "ipython3",
   "version": "3.12.10"
  }
 },
 "nbformat": 4,
 "nbformat_minor": 5
}
