{
 "cells": [
  {
   "attachments": {},
   "cell_type": "markdown",
   "id": "3fa3d9ed-9342-4a50-8c8f-b6e3ad16373d",
   "metadata": {},
   "source": [
    "# Case Study 2 - Spatial projection via modelled data\n",
    "## Description \n",
    "NEED VERSION OF THIS PROBLEM THAT CAN BE RUN BASED ON AVAILABLE DATA (IDEALLY BASED ON RESULTS OF ANOTHER CASE STUDY)\n",
    "## Case Breakdown \n",
    "- **Actors:** Food security researcher\n",
    "- **Goals:** Compare the yield of different grain varieties in certain weather conditions\n",
    "- **Scope:** Regional, plot-scale\n",
    "## Generalised case\n",
    "I want to predict a spatial variable at plot scale across a region based on a calculation dependent on data for multiple other spatial variables.\n",
    "## Comparable cases\n",
    "- As a food security researcher, I want to analyse expected yield for different chickpea and wheat varieties if these were grown across Western Australia under actual seasonal weather conditions, so I can estimate the benefit associated with optimised varietal selection. \n",
    "- I want to predict population levels for a pest species across a region based on a function derived from Case Study 1 and environmental context for the region at the time and over the previous month, including weather (temperature, rainfall, humidity - all xyt), lunar phase (t) and greenness (xyt - see https://portal.tern.org.au/metadata/TERN/8542d90e-6e20-4ad8-b30d-0a171b61d3f5).\n",
    "## Stakeholders \n",
    "- **Name:** TBD\n",
    "- **Contact:** TBD@adelaide.edu.au\n"
   ]
  },
  {
   "cell_type": "markdown",
   "id": "806db0de-ec5a-471b-97ba-ea12f54e24dc",
   "metadata": {},
   "source": [
    "## Data Sources\n",
    "TBD"
   ]
  },
  {
   "cell_type": "markdown",
   "id": "03a43108-71d7-443b-b25b-1e1e98ad638a",
   "metadata": {},
   "source": [
    "## Data Transformation\n",
    "Describe the steps take to process the data. "
   ]
  },
  {
   "cell_type": "code",
   "execution_count": 4,
   "id": "f79e2844-8507-4801-b513-295ddcf5b96d",
   "metadata": {},
   "outputs": [],
   "source": [
    "## CODE EXAMPLE \n",
    "## THIS\n",
    "## is \n",
    "## the part of \n",
    "## CODE"
   ]
  },
  {
   "cell_type": "markdown",
   "id": "63dcba91-b438-478c-b286-7480a914f0f2",
   "metadata": {},
   "source": [
    "## DataCube Generation\n",
    "Describe the steps take to process the data. "
   ]
  },
  {
   "cell_type": "code",
   "execution_count": 5,
   "id": "e876f914-03ee-42c8-89ec-d60b3322ee53",
   "metadata": {},
   "outputs": [],
   "source": [
    "## CODE EXAMPLE \n",
    "## THIS\n",
    "## is \n",
    "## the part of \n",
    "## CODE"
   ]
  },
  {
   "cell_type": "markdown",
   "id": "68a2639c-d693-4a0f-aff2-c5c5f1713025",
   "metadata": {},
   "source": [
    "## Data Analysis/Visualisation\n",
    "Describe the steps take to process the data. "
   ]
  },
  {
   "cell_type": "code",
   "execution_count": 6,
   "id": "63e28fba-f697-42c1-a566-c45f40f40b14",
   "metadata": {},
   "outputs": [],
   "source": [
    "## CODE EXAMPLE \n",
    "## THIS\n",
    "## is \n",
    "## the part of \n",
    "## CODE"
   ]
  }
 ],
 "metadata": {
  "kernelspec": {
   "display_name": "Python 3 (ipykernel)",
   "language": "python",
   "name": "python3"
  },
  "language_info": {
   "codemirror_mode": {
    "name": "ipython",
    "version": 3
   },
   "file_extension": ".py",
   "mimetype": "text/x-python",
   "name": "python",
   "nbconvert_exporter": "python",
   "pygments_lexer": "ipython3",
   "version": "3.12.3"
  }
 },
 "nbformat": 4,
 "nbformat_minor": 5
}
