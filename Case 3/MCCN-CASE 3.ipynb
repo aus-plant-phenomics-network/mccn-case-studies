{
 "cells": [
  {
   "attachments": {},
   "cell_type": "markdown",
   "id": "3fa3d9ed-9342-4a50-8c8f-b6e3ad16373d",
   "metadata": {},
   "source": [
    "# Case Study 3\n",
    "## Description \n",
    "As a researcher, I want the ability to design a study/field campaign in advance, so that the best results can be obtained from that study/campaign. \n",
    "## Case Breakdown \n",
    "- **Actors:** Researcher\n",
    "- **Goals:** Design a campaign based on maximising variation between stusy sitrs\n",
    "- **Scope:** Regional, plot-based\n",
    "- **Language:** R\n",
    "- **Extra:** TBD\n",
    "## Generalised case\n",
    "I want to analyse a suite of spatial variables for a set of candidate locations so I can find a subset that maximises the spread across environments.\n",
    "## Comparable cases\n",
    "- I want to combine a suite of environmental variables, including weather (temperature, rainfall, humidity - all xyt), lunar phase (t) and greenness (xyt - see https://portal.tern.org.au/metadata/TERN/8542d90e-6e20-4ad8-b30d-0a171b61d3f5) and soils (pH, N, K, structure) for N (e.g. 50) candidate sites and then select the five sites that maximise spread across different environmental conditions.\n",
    "- I have a set of study sites in an area and wish to know the best location for adding one more, based on ensuring that the new site adds as much as possible to the range of environments studied.\n",
    "## Stakeholders \n",
    "- **Name:** TBD\n",
    "- **Contact:** donald.hobern@adelaide.edu.au\n"
   ]
  },
  {
   "cell_type": "markdown",
   "id": "806db0de-ec5a-471b-97ba-ea12f54e24dc",
   "metadata": {},
   "source": [
    "## Data Sources - <span style=\"color:red\">DRAFT</span>\n",
    "- **Reference:** https://appf-central.atlassian.net/l/cp/7yrLwqX1\n",
    "**UPDATED PLAN 2025-02-07**\n",
    "The primary goal for this case study is to demonstrate being able to import a set of environmental values for different sites and then use these to identify a subset that maximises spread across the various environmental dimensions.\n",
    "\n",
    "I think we can keep this simple and include say 5 environmental attributes imported for all Australia (or a subset like NSW) at a moderate grid scale (this needs to be fine-tuned). Suggested datasets:\n",
    "\n",
    "1. Soil water pH (0-5cm) - see https://esoil.io/TERNLandscapes/Public/Pages/SLGA/ProductDetails-SoilAttributes.html\n",
    "2. Soil organic carbon (0-5cm) - see https://esoil.io/TERNLandscapes/Public/Pages/SLGA/ProductDetails-SoilAttributes.html\n",
    "3. Annual mean rainfall\n",
    "4. Annual maximum temperature\n",
    "5. Annual minimum temperature\n",
    "\n",
    "The first two can probably be imported directly as layers from SLGA. The others are probably available online in suitable forms at a slightly better grid resolution and could be imported directly. A nice enhancement to this case study could be to start by importing annual layers (say for the last 5 or 10 years) for each of these and then generating the mean, maximum and minimum respectively for each pixel across the selected years and using that computed output as the import into the main datacube.\n",
    "\n",
    "Latitude and longitude could be easy additions if we want to experiment with extra variables later.\n",
    "\n",
    "<span style=\"color:silver\">\n",
    "**PREVIOUS NOTES**\n",
    "Data Source 1: SILO Climate DATABASE \n",
    "- **Description:** SILO Climate Database for environmental data.\n",
    "- **Format:** TBD\n",
    "- **Access Method:** https://www.longpaddock.qld.gov.au/silo/\n",
    "Data Source 2: Extreme Weather Data (BOM)\n",
    "- **Description:** Extreme weather data from the Bureau of Meteorology (BOM).\n",
    "- **Format:** TBD\n",
    "- **Access Method:** http://www.bom.gov.au/akamai/https-redirect.html\n",
    "Data Source 1: On-Ground Site\n",
    "- **Description:** Data from where the chickpeas come from.\n",
    "- **Format:** TBD\n",
    "- **Access Method:** TBD\n",
    "Data Catalog - DRAFT\n",
    "Describe what kind of data will be using \n",
    "</span>"
   ]
  },
  {
   "cell_type": "markdown",
   "id": "03a43108-71d7-443b-b25b-1e1e98ad638a",
   "metadata": {},
   "source": [
    "## Data Transformation - <span style=\"color:red\">DRAFT</span> \n",
    "**UPDATED PLAN 2025-02-07**\n",
    "Align/scale all sources on a single grid."
   ]
  },
  {
   "cell_type": "code",
   "execution_count": 4,
   "id": "f79e2844-8507-4801-b513-295ddcf5b96d",
   "metadata": {},
   "outputs": [],
   "source": [
    "## CODE EXAMPLE \n",
    "## THIS\n",
    "## is \n",
    "## the part of \n",
    "## CODE"
   ]
  },
  {
   "cell_type": "markdown",
   "id": "63dcba91-b438-478c-b286-7480a914f0f2",
   "metadata": {},
   "source": [
    "## DataCube Generation - <span style=\"color:red\">DRAFT</span> \n",
    "Describe the steps take to process the data. "
   ]
  },
  {
   "cell_type": "code",
   "execution_count": 5,
   "id": "e876f914-03ee-42c8-89ec-d60b3322ee53",
   "metadata": {},
   "outputs": [],
   "source": [
    "## CODE EXAMPLE \n",
    "## THIS\n",
    "## is \n",
    "## the part of \n",
    "## CODE"
   ]
  },
  {
   "cell_type": "markdown",
   "id": "68a2639c-d693-4a0f-aff2-c5c5f1713025",
   "metadata": {},
   "source": [
    "## Data Analysis/Visulisation - <span style=\"color:red\">DRAFT</span> \n",
    "**UPDATED PLAN 2025-02-07**\n",
    "Select 10 random positions across the space selected. \n",
    "\n",
    "Find the optimal position for an 11th site to maximise variation across the environment.\n",
    "\n",
    "Simplest algorithm would be to scale all environmental layers on a 0.0 to 1.0 scale based on the actual range of values in the layer.\n",
    "\n",
    "Treat these as orthogonal axes in a 5-dimensional space. The environmental distance between any two points will be the fifth root of the product of these five numbers.\n",
    "\n",
    "We can generate 10 new layers that each represents the environmental distance between each pixel and one of the 10 current points.\n",
    "\n",
    "We can then find the lowest value for each pixel from these 10 layers - that is the environmental distance between that point and the environmentally closest of the 10 current points.\n",
    "\n",
    "We can then find which pixel has the highest value in this last layer - that is the most environmentally distant point and the one that should next be surveyed.\n"
   ]
  },
  {
   "cell_type": "code",
   "execution_count": 6,
   "id": "63e28fba-f697-42c1-a566-c45f40f40b14",
   "metadata": {},
   "outputs": [],
   "source": [
    "## CODE EXAMPLE \n",
    "## THIS\n",
    "## is \n",
    "## the part of \n",
    "## CODE"
   ]
  },
  {
   "attachments": {},
   "cell_type": "markdown",
   "id": "64d98a83-e3e6-4f63-abf5-6bb56b5c0cfa",
   "metadata": {},
   "source": [
    "## NonFunctional Requirements - <span style=\"color:red\">DRAFT</span> \n",
    "### Welcome PAGE\n",
    "#### Objectives\n",
    "- Showing users what they can do and get and how they can proceed.\n",
    "- Showing the most updeted information. \n",
    "#### Requirements \n",
    "- Create a simple UI/Template for user input their requirements\n",
    "  - showing the normal process of querying data and provide sample data\n",
    "  - showing the sample output users are expected to have\n",
    "  - showing the resources users can use\n",
    "- Creating a 'HELP' Page for users to looking for what kind of attributes they can use\n",
    "  - Including all the attributes they can query from the data sources\n",
    "  - Including all the functions users can use and expecting outputs of those query\n",
    "  - Including informations for asking questions and reaching for help.\n",
    "- Creating a 'Annoucement' Page for showing the most updated information of the project\n",
    "  - Including versions/Time/Detail\n",
    "\n",
    "### User Query \n",
    "#### Objectives\n",
    "- take input from users and process with related data\n",
    "- Analyze the data and give feedback of what is expected\n",
    "  - Error Control\n",
    "  - Time estimation\n",
    "  - Output Estimatation\n",
    "#### Requirements \n",
    "- Using basic Query language to query DATA\n",
    "    > Select Phenotype*\n",
    "    > from On-GroundSite\n",
    "    > Where CropType = 'Chickpeas'\n",
    "\n",
    "    > Select Environmental\n",
    "    > from SILO\n",
    "    > where weather ='Extreme'- ERROR Control\n",
    "- Estimation for time & Output\n",
    "    > ----> Estimated Files intotal: 500 file 5GB\n",
    "    > ----> Estimated Time:5 mins 50%\n",
    "    > ----> Noted it may depends on your download speed balabla.\n",
    "### Error Control\n",
    "#### Objectives\n",
    "- State clear what is happening while using try to query\n",
    "- Give advice & suggestions\n",
    "\n",
    "### Extras\n",
    "#### Non-Functional Requirements\n",
    "- Ensure querying time is within a set time (less than 1 second).\n",
    "- Create a waiting process for querying if time is not stable.\n",
    "- Present outputs in a consistent and organized manner.\n",
    "- Handle unexpected errors gracefully, showing error codes and continuing with other feasible data."
   ]
  }
 ],
 "metadata": {
  "kernelspec": {
   "display_name": "Python 3 (ipykernel)",
   "language": "python",
   "name": "python3"
  },
  "language_info": {
   "codemirror_mode": {
    "name": "ipython",
    "version": 3
   },
   "file_extension": ".py",
   "mimetype": "text/x-python",
   "name": "python",
   "nbconvert_exporter": "python",
   "pygments_lexer": "ipython3",
   "version": "3.12.3"
  }
 },
 "nbformat": 4,
 "nbformat_minor": 5
}
