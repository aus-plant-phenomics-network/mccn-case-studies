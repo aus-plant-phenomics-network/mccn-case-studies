{
 "cells": [
  {
   "attachments": {},
   "cell_type": "markdown",
   "id": "3fa3d9ed-9342-4a50-8c8f-b6e3ad16373d",
   "metadata": {},
   "source": [
    "# Case Study 4\n",
    "## Description \n",
    "As a user of satellite data, I want to compare high-quality ground-based data from multiple sites with a satellite product, so that I can assess its precision and accuracy for estimating the same variables at other sites.  \n",
    "## Case Breakdown \n",
    "- **Actors:** Satellite Data User\n",
    "- **Goals:** Finding correlations between satellite data and ground-based data\n",
    "- **Scope:** National, point-based\n",
    "- **Language:** Python\n",
    "- **Extra:** TBD\n",
    "## Generalised case\n",
    "I want to compare measurements from a satellite data product with actual on-ground measurements from different sites and report mean and standard deviation for the error.\n",
    "## Comparable cases\n",
    "- I want to compare local weather station values at APPN and/or TERN sites with the associated daily measurememts from national weather datasets (BOM).\n",
    "## Stakeholders \n",
    "- **Name:** TBD\n",
    "- **Contact:** donald.hobern@adelaide.edu.au\n"
   ]
  },
  {
   "cell_type": "markdown",
   "id": "806db0de-ec5a-471b-97ba-ea12f54e24dc",
   "metadata": {},
   "source": [
    "## Data Sources - <span style=\"color:red\">DRAFT</span>\n",
    "**UPDATED PLAN 2025-02-07**\n",
    "This case study is conceptually simple. We just need a spatial data product (not necessarily satellite imagery) that provides estimates of some variable for particular times and places and some local points of truth that provide measurements of local values for the same variable.\n",
    "\n",
    "The obvious examples are weather data. We could calculate local values at one or more sites for one or more dates that should match the values in the spatial data product. We could then assess the mean error and the standard deviation of the errors for those times and places. These errors could be calibrated as fractions of the total range across which the variable is measured.\n",
    "\n",
    "The problem is that I'm not sure any of our current focus sites are sharing weather data. Need to check with Rakesh.\n",
    "\n",
    "\n",
    "<span style=\"color:silver\">\n",
    "**Reference:** https://appf-central.atlassian.net/l/cp/7yrLwqX1\n",
    "Data Source 1: SILO Climate DATABASE \n",
    "- **Description:** SILO Climate Database for environmental data.\n",
    "- **Format:** TBD\n",
    "- **Access Method:** https://www.longpaddock.qld.gov.au/silo/\n",
    "Data Source 2: Extreme Weather Data (BOM)\n",
    "- **Description:** Extreme weather data from the Bureau of Meteorology (BOM).\n",
    "- **Format:** TBD\n",
    "- **Access Method:** http://www.bom.gov.au/akamai/https-redirect.html\n",
    "Data Source 1: On-Ground Site\n",
    "- **Description:** Data from where the chickpeas come from.\n",
    "- **Format:** TBD\n",
    "- **Access Method:** TBD\n",
    "Data Catalog - DRAFT\n",
    "Describe what kind of data will be using \n",
    "</span>"
   ]
  },
  {
   "cell_type": "markdown",
   "id": "03a43108-71d7-443b-b25b-1e1e98ad638a",
   "metadata": {},
   "source": [
    "## Data Transformation - <span style=\"color:red\">DRAFT</span> \n",
    "Describe the steps take to process the data. "
   ]
  },
  {
   "cell_type": "code",
   "execution_count": 4,
   "id": "f79e2844-8507-4801-b513-295ddcf5b96d",
   "metadata": {},
   "outputs": [],
   "source": [
    "## CODE EXAMPLE \n",
    "## THIS\n",
    "## is \n",
    "## the part of \n",
    "## CODE"
   ]
  },
  {
   "cell_type": "markdown",
   "id": "63dcba91-b438-478c-b286-7480a914f0f2",
   "metadata": {},
   "source": [
    "## DataCube Generation - <span style=\"color:red\">DRAFT</span> \n",
    "Describe the steps take to process the data. "
   ]
  },
  {
   "cell_type": "code",
   "execution_count": 5,
   "id": "e876f914-03ee-42c8-89ec-d60b3322ee53",
   "metadata": {},
   "outputs": [],
   "source": [
    "## CODE EXAMPLE \n",
    "## THIS\n",
    "## is \n",
    "## the part of \n",
    "## CODE"
   ]
  },
  {
   "cell_type": "markdown",
   "id": "68a2639c-d693-4a0f-aff2-c5c5f1713025",
   "metadata": {},
   "source": [
    "## Data Analysis/Visulisation - <span style=\"color:red\">DRAFT</span> \n",
    "Describe the steps take to process the data. \n",
    "### Requirments \n",
    "- Provide the aggregate spatial data into excel files\n",
    "- Pictures should be presented by URL"
   ]
  },
  {
   "cell_type": "code",
   "execution_count": 6,
   "id": "63e28fba-f697-42c1-a566-c45f40f40b14",
   "metadata": {},
   "outputs": [],
   "source": [
    "## CODE EXAMPLE \n",
    "## THIS\n",
    "## is \n",
    "## the part of \n",
    "## CODE"
   ]
  },
  {
   "attachments": {},
   "cell_type": "markdown",
   "id": "64d98a83-e3e6-4f63-abf5-6bb56b5c0cfa",
   "metadata": {},
   "source": [
    "## NonFunctional Requirements - <span style=\"color:red\">DRAFT</span> \n",
    "### Welcome PAGE\n",
    "#### Objectives\n",
    "- Showing users what they can do and get and how they can proceed.\n",
    "- Showing the most updeted information. \n",
    "#### Requirements \n",
    "- Create a simple UI/Template for user input their requirements\n",
    "  - showing the normal process of querying data and provide sample data\n",
    "  - showing the sample output users are expected to have\n",
    "  - showing the resources users can use\n",
    "- Creating a 'HELP' Page for users to looking for what kind of attributes they can use\n",
    "  - Including all the attributes they can query from the data sources\n",
    "  - Including all the functions users can use and expecting outputs of those query\n",
    "  - Including informations for asking questions and reaching for help.\n",
    "- Creating a 'Annoucement' Page for showing the most updated information of the project\n",
    "  - Including versions/Time/Detail\n",
    "\n",
    "### User Query \n",
    "#### Objectives\n",
    "- take input from users and process with related data\n",
    "- Analyze the data and give feedback of what is expected\n",
    "  - Error Control\n",
    "  - Time estimation\n",
    "  - Output Estimatation\n",
    "#### Requirements \n",
    "- Using basic Query language to query DATA\n",
    "    > Select Phenotype*\n",
    "    > from On-GroundSite\n",
    "    > Where CropType = 'Chickpeas'\n",
    "\n",
    "    > Select Environmental\n",
    "    > from SILO\n",
    "    > where weather ='Extreme'- ERROR Control\n",
    "- Estimation for time & Output\n",
    "    > ----> Estimated Files intotal: 500 file 5GB\n",
    "    > ----> Estimated Time:5 mins 50%\n",
    "    > ----> Noted it may depends on your download speed balabla.\n",
    "### Error Control\n",
    "#### Objectives\n",
    "- State clear what is happening while using try to query\n",
    "- Give advice & suggestions\n",
    "\n",
    "### Extras\n",
    "#### Non-Functional Requirements\n",
    "- Ensure querying time is within a set time (less than 1 second).\n",
    "- Create a waiting process for querying if time is not stable.\n",
    "- Present outputs in a consistent and organized manner.\n",
    "- Handle unexpected errors gracefully, showing error codes and continuing with other feasible data."
   ]
  }
 ],
 "metadata": {
  "kernelspec": {
   "display_name": "Python 3 (ipykernel)",
   "language": "python",
   "name": "python3"
  },
  "language_info": {
   "codemirror_mode": {
    "name": "ipython",
    "version": 3
   },
   "file_extension": ".py",
   "mimetype": "text/x-python",
   "name": "python",
   "nbconvert_exporter": "python",
   "pygments_lexer": "ipython3",
   "version": "3.12.3"
  }
 },
 "nbformat": 4,
 "nbformat_minor": 5
}
