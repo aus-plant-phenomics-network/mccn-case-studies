{
 "cells": [
  {
   "attachments": {},
   "cell_type": "markdown",
   "id": "3fa3d9ed-9342-4a50-8c8f-b6e3ad16373d",
   "metadata": {},
   "source": [
    "# Case Study 4 - Validating gridded data products\n",
    "## Description \n",
    "As a user of satellite data, I want to compare high-quality ground-based data from multiple sites with a satellite product, so that I can assess its precision and accuracy for estimating the same variables at other sites.  \n",
    "## Case Breakdown \n",
    "- **Actors:** Satellite Data User\n",
    "- **Goals:** Finding correlations between satellite data and ground-based data\n",
    "- **Scope:** National, point-based\n",
    "## Generalised case\n",
    "I want to compare measurements from a satellite data product with actual on-ground measurements from different sites and report mean and standard deviation for the error.\n",
    "## Comparable cases\n",
    "- I want to compare local weather station values at APPN and/or TERN sites with the associated daily measurememts from national weather datasets (BOM).\n",
    "## Stakeholders \n",
    "- **Name:** Donald Hobern\n",
    "- **Contact:** donald.hobern@adelaide.edu.au\n"
   ]
  },
  {
   "cell_type": "markdown",
   "id": "806db0de-ec5a-471b-97ba-ea12f54e24dc",
   "metadata": {},
   "source": [
    "## Data Sources\n",
    "**UPDATED PLAN 2025-02-07**\n",
    "This case study is conceptually simple. We just need a spatial data product (not necessarily satellite imagery) that provides estimates of some variable for particular times and places and some local points of truth that provide measurements of local values for the same variable.\n",
    "\n",
    "The obvious examples are weather data. We could calculate local values at one or more sites for one or more dates that should match the values in the spatial data product. We could then assess the mean error and the standard deviation of the errors for those times and places. These errors could be calibrated as fractions of the total range across which the variable is measured.\n",
    "\n",
    "The problem is that I'm not sure any of our current focus sites are sharing weather data. Need to check with Rakesh."
   ]
  },
  {
   "cell_type": "markdown",
   "id": "03a43108-71d7-443b-b25b-1e1e98ad638a",
   "metadata": {},
   "source": [
    "## Data Transformation\n",
    "Describe the steps take to process the data. "
   ]
  },
  {
   "cell_type": "code",
   "execution_count": 4,
   "id": "f79e2844-8507-4801-b513-295ddcf5b96d",
   "metadata": {},
   "outputs": [],
   "source": [
    "## CODE EXAMPLE \n",
    "## THIS\n",
    "## is \n",
    "## the part of \n",
    "## CODE"
   ]
  },
  {
   "cell_type": "markdown",
   "id": "63dcba91-b438-478c-b286-7480a914f0f2",
   "metadata": {},
   "source": [
    "## DataCube Generation\n",
    "Describe the steps take to process the data. "
   ]
  },
  {
   "cell_type": "code",
   "execution_count": 5,
   "id": "e876f914-03ee-42c8-89ec-d60b3322ee53",
   "metadata": {},
   "outputs": [],
   "source": [
    "## CODE EXAMPLE \n",
    "## THIS\n",
    "## is \n",
    "## the part of \n",
    "## CODE"
   ]
  },
  {
   "cell_type": "markdown",
   "id": "68a2639c-d693-4a0f-aff2-c5c5f1713025",
   "metadata": {},
   "source": [
    "## Data Analysis/Visulisation\n",
    "Describe the steps take to process the data. "
   ]
  },
  {
   "cell_type": "code",
   "execution_count": 6,
   "id": "63e28fba-f697-42c1-a566-c45f40f40b14",
   "metadata": {},
   "outputs": [],
   "source": [
    "## CODE EXAMPLE \n",
    "## THIS\n",
    "## is \n",
    "## the part of \n",
    "## CODE"
   ]
  }
 ],
 "metadata": {
  "kernelspec": {
   "display_name": "Python 3 (ipykernel)",
   "language": "python",
   "name": "python3"
  },
  "language_info": {
   "codemirror_mode": {
    "name": "ipython",
    "version": 3
   },
   "file_extension": ".py",
   "mimetype": "text/x-python",
   "name": "python",
   "nbconvert_exporter": "python",
   "pygments_lexer": "ipython3",
   "version": "3.12.3"
  }
 },
 "nbformat": 4,
 "nbformat_minor": 5
}
