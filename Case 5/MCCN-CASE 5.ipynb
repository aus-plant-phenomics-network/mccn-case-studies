{
 "cells": [
  {
   "attachments": {},
   "cell_type": "markdown",
   "id": "3fa3d9ed-9342-4a50-8c8f-b6e3ad16373d",
   "metadata": {},
   "source": [
    "# Case Study 5 - Explore drivers of yield\n",
    "## Description \n",
    "As a crop scientist, I want to integrate a mixture of environmental variables (soils, pests, etc.) with plant phenotyping data, so that I can interpret the relative importance of these aspects on plant yield.\n",
    "## Case Breakdown \n",
    "- **Actors:** Crop scientist\n",
    "- **Golas:** Data analysis between environmental data nad phenotype data\n",
    "- **Scope:** Regional, plot-based\n",
    "## Generalised case\n",
    "I want to combine a suite of spatial variables at different scales across multiple sites so I can analyse the factors correlated with a variable of interest. (Subcase of Case Study 1)\n",
    "## Comparable cases\n",
    "- I want to aggregate iMapPests data for the same pest across multiple sites and locations so I can analyse the relationship between population levels and environmental context at the time and over the previous month, including weather (temperature, rainfall, humidity - all xyt), lunar phase (t) and greenness (xyt - see https://portal.tern.org.au/metadata/TERN/8542d90e-6e20-4ad8-b30d-0a171b61d3f5).\n",
    "## Stakeholders \n",
    "- **Name:** TBD\n",
    "- **Contact:** TBD@adelaide.edu.au\n"
   ]
  },
  {
   "cell_type": "markdown",
   "id": "806db0de-ec5a-471b-97ba-ea12f54e24dc",
   "metadata": {},
   "source": [
    "## Data Sources\n",
    "Explore the USyd LLaraCampey data. Use the following as the suite of environmental layers for assessing:\n",
    "\n",
    "1. ECa raster\n",
    "2. Radiometric raster\n",
    "3. A relevant rainfall measure - if we have (or can guess) the growing season dates or the yield measurement data for each plot, see if we can get the total rainfall over the period (or say 3 months up to yield)\n",
    "4. A relevant low-temperature measure - number of days in the same period below e.g. 5C (not sure what the lowest temperatures would be)\n",
    "5. A relevant high-temperature measure - as above.\n",
    "6. A couple of kriged soil estimates (what ones are available?)\n",
    "\n",
    "This should be for each year for which data are sufficient. Use the yield data as the actual values against which to assess importance. If we have any variety data, we could process separately for different varieties."
   ]
  },
  {
   "cell_type": "markdown",
   "id": "03a43108-71d7-443b-b25b-1e1e98ad638a",
   "metadata": {},
   "source": [
    "## Data Transformation\n",
    "Describe the steps take to process the data. "
   ]
  },
  {
   "cell_type": "code",
   "execution_count": 4,
   "id": "f79e2844-8507-4801-b513-295ddcf5b96d",
   "metadata": {},
   "outputs": [],
   "source": [
    "## CODE EXAMPLE \n",
    "## THIS\n",
    "## is \n",
    "## the part of \n",
    "## CODE"
   ]
  },
  {
   "cell_type": "markdown",
   "id": "63dcba91-b438-478c-b286-7480a914f0f2",
   "metadata": {},
   "source": [
    "## DataCube Generation\n",
    "Describe the steps take to process the data. "
   ]
  },
  {
   "cell_type": "code",
   "execution_count": 5,
   "id": "e876f914-03ee-42c8-89ec-d60b3322ee53",
   "metadata": {},
   "outputs": [],
   "source": [
    "## CODE EXAMPLE \n",
    "## THIS\n",
    "## is \n",
    "## the part of \n",
    "## CODE"
   ]
  },
  {
   "cell_type": "markdown",
   "id": "68a2639c-d693-4a0f-aff2-c5c5f1713025",
   "metadata": {},
   "source": [
    "## Data Analysis/Visulisation\n",
    "Describe the steps take to process the data. "
   ]
  },
  {
   "cell_type": "code",
   "execution_count": 6,
   "id": "63e28fba-f697-42c1-a566-c45f40f40b14",
   "metadata": {},
   "outputs": [],
   "source": [
    "## CODE EXAMPLE \n",
    "## THIS\n",
    "## is \n",
    "## the part of \n",
    "## CODE"
   ]
  }
 ],
 "metadata": {
  "kernelspec": {
   "display_name": "Python 3 (ipykernel)",
   "language": "python",
   "name": "python3"
  },
  "language_info": {
   "codemirror_mode": {
    "name": "ipython",
    "version": 3
   },
   "file_extension": ".py",
   "mimetype": "text/x-python",
   "name": "python",
   "nbconvert_exporter": "python",
   "pygments_lexer": "ipython3",
   "version": "3.12.3"
  }
 },
 "nbformat": 4,
 "nbformat_minor": 5
}
