{
 "cells": [
  {
   "attachments": {},
   "cell_type": "markdown",
   "id": "3fa3d9ed-9342-4a50-8c8f-b6e3ad16373d",
   "metadata": {},
   "source": [
    "# Case Study 6 - National wheat yield and efficiency\n",
    "## Description \n",
    "As a development corporation, I want to combine annual wheat tonnes (data at the SA2 level) with monthly rainfall data (data at the SA2 level), so I can calculate national wheat water use efficiency. \n",
    "## Case Breakdown \n",
    "- **Actors:** Development corporation\n",
    "- **Goals:** Based on the historical data for predictions\n",
    "- **Scope** National\n",
    "## Generalised case\n",
    "I want to combine a suite of spatial variables at different scales across multiple sites so I can analyse the factors correlated with a variable of interest. (Subcase of Case Study 1)\n",
    "## Comparable cases\n",
    "- I want to aggregate iMapPests data for the same pest across multiple sites and locations so I can analyse the relationship between population levels and environmental context at the time and over the previous month, including weather (temperature, rainfall, humidity - all xyt), lunar phase (t) and greenness (xyt - see https://portal.tern.org.au/metadata/TERN/8542d90e-6e20-4ad8-b30d-0a171b61d3f5).\n",
    "## Stakeholders \n",
    "- **Name:** Jeff Cumpston\n",
    "- **Contact:** jeff.cumpston@grdc.com.au\n"
   ]
  },
  {
   "cell_type": "markdown",
   "id": "806db0de-ec5a-471b-97ba-ea12f54e24dc",
   "metadata": {},
   "source": [
    "## Data Sources\n",
    "To be confirmed\n",
    "\n",
    "- BOM monthly rainfall grid data: http://www.bom.gov.au/climate/averages/climatology/average-rainfall-metadata.shtml - may need to request access"
   ]
  },
  {
   "cell_type": "markdown",
   "id": "03a43108-71d7-443b-b25b-1e1e98ad638a",
   "metadata": {},
   "source": [
    "## Data Transformation\n",
    "1. Import SA2 shape files and associated yield data for a given season.\n",
    "2. Import monthly rainfall for all months in growing season (which?)"
   ]
  },
  {
   "cell_type": "code",
   "execution_count": 4,
   "id": "f79e2844-8507-4801-b513-295ddcf5b96d",
   "metadata": {},
   "outputs": [],
   "source": [
    "## CODE EXAMPLE \n",
    "## THIS\n",
    "## is \n",
    "## the part of \n",
    "## CODE"
   ]
  },
  {
   "cell_type": "markdown",
   "id": "63dcba91-b438-478c-b286-7480a914f0f2",
   "metadata": {},
   "source": [
    "## DataCube Generation\n",
    "3. Derive total seasonal rainfall per SA2 area\n",
    "4. Normalise yield and rainfall to 1km2 means"
   ]
  },
  {
   "cell_type": "code",
   "execution_count": 5,
   "id": "e876f914-03ee-42c8-89ec-d60b3322ee53",
   "metadata": {},
   "outputs": [],
   "source": [
    "## CODE EXAMPLE \n",
    "## THIS\n",
    "## is \n",
    "## the part of \n",
    "## CODE"
   ]
  },
  {
   "cell_type": "markdown",
   "id": "68a2639c-d693-4a0f-aff2-c5c5f1713025",
   "metadata": {},
   "source": [
    "## Data Analysis/Visualisation\n",
    "5. Report yield / rainfall for all relevant SA2 areas "
   ]
  },
  {
   "cell_type": "code",
   "execution_count": 6,
   "id": "63e28fba-f697-42c1-a566-c45f40f40b14",
   "metadata": {},
   "outputs": [],
   "source": [
    "## CODE EXAMPLE \n",
    "## THIS\n",
    "## is \n",
    "## the part of \n",
    "## CODE"
   ]
  }
 ],
 "metadata": {
  "kernelspec": {
   "display_name": "Python 3 (ipykernel)",
   "language": "python",
   "name": "python3"
  },
  "language_info": {
   "codemirror_mode": {
    "name": "ipython",
    "version": 3
   },
   "file_extension": ".py",
   "mimetype": "text/x-python",
   "name": "python",
   "nbconvert_exporter": "python",
   "pygments_lexer": "ipython3",
   "version": "3.12.3"
  }
 },
 "nbformat": 4,
 "nbformat_minor": 5
}
